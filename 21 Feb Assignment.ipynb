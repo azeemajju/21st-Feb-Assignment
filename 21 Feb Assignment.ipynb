{
 "cells": [
  {
   "cell_type": "markdown",
   "id": "537148db",
   "metadata": {},
   "source": [
    "Q1. What is Web Scraping? Why is it Used? Give three areas where Web Scraping is used to get data.\n",
    "\n",
    "Ans:Web scraping is the automated process of extracting data from websites. It involves writing a program that can browse the internet, retrieve web pages, and extract information from them. The extracted data can then be analyzed or stored for later use.\n",
    "\n",
    "Web scraping is used for a variety of purposes, including:\n",
    "\n",
    "1. Research and analysis: Web scraping can be used to collect data for research and analysis purposes. For example, a company might use web scraping to gather information about its competitors, such as pricing, product features, and customer reviews.\n",
    "\n",
    "2. Marketing and advertising: Web scraping can also be used for marketing and advertising purposes. For example, a company might use web scraping to collect email addresses or social media profiles of potential customers for targeted advertising campaigns.\n",
    "\n",
    "3. Data journalism: Web scraping is often used in data journalism to gather information for news stories. Journalists can use web scraping to collect data on a variety of topics, such as government spending, crime statistics, or election results.\n",
    "\n",
    "Here are three specific areas where web scraping is commonly used to get data:\n",
    "\n",
    "1. E-commerce: Online retailers often use web scraping to gather information about their competitors' prices, product features, and customer reviews. This information can be used to adjust their own pricing and marketing strategies.\n",
    "\n",
    "2. Real estate: Web scraping is often used in the real estate industry to gather information about properties, such as their location, size, and price. This information can be used to make more informed buying and selling decisions.\n",
    "\n",
    "3. Social media: Web scraping can be used to gather data from social media platforms, such as Twitter and Facebook. This data can be used to track trends, monitor customer sentiment, and identify influencers."
   ]
  },
  {
   "cell_type": "markdown",
   "id": "16d7c612",
   "metadata": {},
   "source": [
    "Q2. What are the different methods used for Web Scraping?\n",
    "\n",
    "Ans:There are several methods used for web scraping, including:\n",
    "\n",
    "1. Parsing HTML: This involves using a programming language to parse the HTML code of a web page and extract the desired data. This can be done using libraries such as Beautiful Soup in Python or jsoup in Java.\n",
    "\n",
    "2. Using web scraping tools: There are many web scraping tools available that allow users to extract data from websites without writing any code. These tools typically work by providing a visual interface that allows users to select the data they want to extract.\n",
    "\n",
    "3. Automated browsing: This involves using a program to simulate a web browser and navigate to the desired web pages. The program can then extract the desired data from the page using various methods such as parsing HTML or using regular expressions.\n",
    "\n",
    "4. APIs: Some websites provide APIs (Application Programming Interfaces) that allow developers to access data from their sites in a structured and organized way. This can be a more reliable and efficient method of obtaining data than web scraping.\n",
    "\n",
    "5. Scraping PDFs: Web scraping can also be used to extract data from PDF documents, using libraries such as PyPDF2 in Python or pdfminer in Java.\n",
    "\n",
    "6. Screen scraping: This involves capturing data from the user interface of a desktop or mobile application. This can be done using specialized software that can recognize and extract data from the user interface."
   ]
  },
  {
   "cell_type": "markdown",
   "id": "94e49411",
   "metadata": {},
   "source": [
    "Q3. What is Beautiful Soup? Why is it used?\n",
    "\n",
    "Ans:\n",
    "\n",
    "1. What is Beautiful Soup?\n",
    "\n",
    "Beautiful Soup is a popular Python library used for web scraping. It is used to parse HTML and XML documents, allowing developers to extract data from websites in a structured and organized way.\n",
    "\n",
    "2. Why is it used?\n",
    "\n",
    "Beautiful Soup is used for web scraping because it makes it easy to navigate HTML documents and extract the desired data. It can handle poorly formed HTML and XML, making it a robust tool for web scraping. It can also be used to manipulate and modify HTML documents.\n"
   ]
  },
  {
   "cell_type": "markdown",
   "id": "345db9fd",
   "metadata": {},
   "source": [
    "Q4. Why is flask used in this Web Scraping project?\n",
    "\n",
    "Ans:Flask is a Python web framework that is often used for building web applications. In a web scraping project, Flask can be used to create a web application that displays the scraped data to users.\n",
    "\n",
    "By using Flask, developers can create a simple and lightweight web application that can run on a local server. Flask provides a number of useful features for web development, such as routing, request handling, and template rendering.\n",
    "\n",
    "In a web scraping project, Flask can be used to create a simple web interface that allows users to enter search queries or select options, and then display the scraped data in a user-friendly way. Flask can also be used to handle authentication and authorization, which can be useful for controlling access to the scraped data.\n",
    "\n",
    "Overall, Flask is a useful tool for building web applications that can display and interact with scraped data, making it a popular choice for web scraping projects."
   ]
  },
  {
   "cell_type": "code",
   "execution_count": null,
   "id": "1b302869",
   "metadata": {},
   "outputs": [],
   "source": [
    "Q5. Write the names of AWS services used in this project. Also, explain the use of each service."
   ]
  },
  {
   "cell_type": "code",
   "execution_count": null,
   "id": "bbbc6608",
   "metadata": {},
   "outputs": [],
   "source": []
  },
  {
   "cell_type": "code",
   "execution_count": null,
   "id": "525d4f27",
   "metadata": {},
   "outputs": [],
   "source": []
  },
  {
   "cell_type": "code",
   "execution_count": null,
   "id": "32161c0b",
   "metadata": {},
   "outputs": [],
   "source": []
  },
  {
   "cell_type": "code",
   "execution_count": null,
   "id": "287a33a2",
   "metadata": {},
   "outputs": [],
   "source": []
  }
 ],
 "metadata": {
  "kernelspec": {
   "display_name": "Python 3 (ipykernel)",
   "language": "python",
   "name": "python3"
  },
  "language_info": {
   "codemirror_mode": {
    "name": "ipython",
    "version": 3
   },
   "file_extension": ".py",
   "mimetype": "text/x-python",
   "name": "python",
   "nbconvert_exporter": "python",
   "pygments_lexer": "ipython3",
   "version": "3.9.13"
  }
 },
 "nbformat": 4,
 "nbformat_minor": 5
}
